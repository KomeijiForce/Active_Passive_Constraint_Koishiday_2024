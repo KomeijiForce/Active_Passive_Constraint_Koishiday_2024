{
 "cells": [
  {
   "cell_type": "code",
   "execution_count": 1,
   "id": "a4fe7734",
   "metadata": {},
   "outputs": [],
   "source": [
    "import os\n",
    "os.environ[\"CUDA_VISIBLE_DEVICES\"] = \"0\"\n",
    "import json\n",
    "import torch\n",
    "from transformers import AutoTokenizer, AutoModelForCausalLM, BitsAndBytesConfig\n",
    "from prp_model import retrieval_augmented_generate\n",
    "from classifier import get_relevance_discriminator\n",
    "\n",
    "character = \"Bob\"\n",
    "\n",
    "statements = [data[\"statement\"] for data in json.load(open(f\"statement/{character}.json\"))]\n",
    "\n",
    "model_id = f\"prp_models/gemma-1.1-7b-it-lora-{character}-rag-dpo\"\n",
    "\n",
    "bnb_config = BitsAndBytesConfig(\n",
    "    load_in_4bit=True,\n",
    "    bnb_4bit_quant_type=\"nf4\",\n",
    "    bnb_4bit_compute_dtype=torch.bfloat16\n",
    ")\n",
    "\n",
    "prp_tokenizer = AutoTokenizer.from_pretrained(model_id)\n",
    "prp_model = AutoModelForCausalLM.from_pretrained(model_id, quantization_config=bnb_config, device_map={\"\":0})\n",
    "\n",
    "relevance_discriminator = get_relevance_discriminator(character=None, statement_query_relevance_dataset=None, relevance_finetune_epoch=None, use_pretrained_discriminator=True)\n",
    "\n",
    "with torch.no_grad():\n",
    "    \n",
    "    while True:\n",
    "    \n",
    "        _, response = retrieval_augmented_generate(character, statements, input(prompt='User: '), prp_model, prp_tokenizer, relevance_discriminator, rag_top_k=5)\n",
    "        response = character+\": \"+response.replace(\"<eos>\", \"\")\n",
    "        print(response)"
   ]
  },
  {
   "cell_type": "code",
   "execution_count": null,
   "id": "44c69c0e",
   "metadata": {},
   "outputs": [],
   "source": []
  }
 ],
 "metadata": {
  "kernelspec": {
   "display_name": "komeiji",
   "language": "python",
   "name": "komeiji"
  },
  "language_info": {
   "codemirror_mode": {
    "name": "ipython",
    "version": 3
   },
   "file_extension": ".py",
   "mimetype": "text/x-python",
   "name": "python",
   "nbconvert_exporter": "python",
   "pygments_lexer": "ipython3",
   "version": "3.8.0"
  }
 },
 "nbformat": 4,
 "nbformat_minor": 5
}
